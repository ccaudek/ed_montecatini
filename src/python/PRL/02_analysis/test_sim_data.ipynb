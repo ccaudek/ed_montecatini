{
 "cells": [
  {
   "cell_type": "code",
   "execution_count": 55,
   "metadata": {},
   "outputs": [],
   "source": [
    "import pandas as pd\n",
    "import numpy as np\n",
    "import hddm\n",
    "import sys\n",
    "import seaborn as sns\n",
    "import matplotlib.pyplot as plt\n",
    "from scipy import stats\n",
    "%matplotlib inline\n",
    "pd.options.display.max_columns = None\n",
    "pd.options.display.max_rows = None\n",
    "from kabuki.analyze import gelman_rubin"
   ]
  },
  {
   "cell_type": "code",
   "execution_count": 122,
   "metadata": {},
   "outputs": [],
   "source": [
    "#set number of synthetic subjects and amount of trial to generate per subject\n",
    "subjects = 66\n",
    "trials = 160"
   ]
  },
  {
   "cell_type": "code",
   "execution_count": 150,
   "metadata": {},
   "outputs": [],
   "source": [
    "#create array with all combinations of three values for a, t, scaler and alpha\n",
    "x = np.array([(a, t, scaler, alpha)\n",
    "              for a in np.linspace(1.3,1.4,num=2) \n",
    "              for t in np.linspace(0.16,0.17,num=2) \n",
    "              for scaler in np.linspace(1.9, 2,num=2) \n",
    "              for alpha in np.linspace(-0.25, 3.3,num=2)\n",
    "              # for pos_alpha in np.linspace(-1.7,0.55,num=2)\n",
    "              ])\n",
    "f = pd.DataFrame(data=x,columns=['a','t', 'scaler', 'alpha'])"
   ]
  },
  {
   "cell_type": "code",
   "execution_count": 151,
   "metadata": {},
   "outputs": [
    {
     "data": {
      "text/html": [
       "<div>\n",
       "<style scoped>\n",
       "    .dataframe tbody tr th:only-of-type {\n",
       "        vertical-align: middle;\n",
       "    }\n",
       "\n",
       "    .dataframe tbody tr th {\n",
       "        vertical-align: top;\n",
       "    }\n",
       "\n",
       "    .dataframe thead th {\n",
       "        text-align: right;\n",
       "    }\n",
       "</style>\n",
       "<table border=\"1\" class=\"dataframe\">\n",
       "  <thead>\n",
       "    <tr style=\"text-align: right;\">\n",
       "      <th></th>\n",
       "      <th>a</th>\n",
       "      <th>t</th>\n",
       "      <th>scaler</th>\n",
       "      <th>alpha</th>\n",
       "    </tr>\n",
       "  </thead>\n",
       "  <tbody>\n",
       "    <tr>\n",
       "      <th>0</th>\n",
       "      <td>1.3</td>\n",
       "      <td>0.16</td>\n",
       "      <td>1.9</td>\n",
       "      <td>-0.25</td>\n",
       "    </tr>\n",
       "    <tr>\n",
       "      <th>1</th>\n",
       "      <td>1.3</td>\n",
       "      <td>0.16</td>\n",
       "      <td>1.9</td>\n",
       "      <td>3.30</td>\n",
       "    </tr>\n",
       "    <tr>\n",
       "      <th>2</th>\n",
       "      <td>1.3</td>\n",
       "      <td>0.16</td>\n",
       "      <td>2.0</td>\n",
       "      <td>-0.25</td>\n",
       "    </tr>\n",
       "    <tr>\n",
       "      <th>3</th>\n",
       "      <td>1.3</td>\n",
       "      <td>0.16</td>\n",
       "      <td>2.0</td>\n",
       "      <td>3.30</td>\n",
       "    </tr>\n",
       "    <tr>\n",
       "      <th>4</th>\n",
       "      <td>1.3</td>\n",
       "      <td>0.17</td>\n",
       "      <td>1.9</td>\n",
       "      <td>-0.25</td>\n",
       "    </tr>\n",
       "  </tbody>\n",
       "</table>\n",
       "</div>"
      ],
      "text/plain": [
       "     a     t  scaler  alpha\n",
       "0  1.3  0.16     1.9  -0.25\n",
       "1  1.3  0.16     1.9   3.30\n",
       "2  1.3  0.16     2.0  -0.25\n",
       "3  1.3  0.16     2.0   3.30\n",
       "4  1.3  0.17     1.9  -0.25"
      ]
     },
     "execution_count": 151,
     "metadata": {},
     "output_type": "execute_result"
    }
   ],
   "source": [
    "f.head()"
   ]
  },
  {
   "cell_type": "code",
   "execution_count": 152,
   "metadata": {},
   "outputs": [
    {
     "data": {
      "text/plain": [
       "(16, 4)"
      ]
     },
     "execution_count": 152,
     "metadata": {},
     "output_type": "execute_result"
    }
   ],
   "source": [
    "f.shape"
   ]
  },
  {
   "cell_type": "code",
   "execution_count": 153,
   "metadata": {},
   "outputs": [
    {
     "name": "stdout",
     "output_type": "stream",
     "text": [
      "0\n"
     ]
    },
    {
     "name": "stderr",
     "output_type": "stream",
     "text": [
      "/opt/anaconda3/envs/hddmpy36/lib/python3.6/site-packages/hddm/generate.py:194: RuntimeWarning: invalid value encountered in true_divide\n",
      "  size, range_[0], range_[1], dt)\n"
     ]
    },
    {
     "name": "stdout",
     "output_type": "stream",
     "text": [
      " [-----------------100%-----------------] 500 of 500 complete in 99.3 secc1\n",
      " [-----------------100%-----------------] 500 of 500 complete in 93.3 sec2\n",
      " [-----------------100%-----------------] 501 of 500 complete in 110.5 sec3\n",
      " [-----------------100%-----------------] 501 of 500 complete in 90.3 sec4\n",
      " [-----------------100%-----------------] 500 of 500 complete in 117.4 sec5\n",
      " [-----------------100%-----------------] 500 of 500 complete in 94.7 secc6\n",
      " [-----------------100%-----------------] 500 of 500 complete in 113.0 sec7\n",
      " [-----------------100%-----------------] 500 of 500 complete in 95.6 sec8\n",
      " [-----------------100%-----------------] 500 of 500 complete in 106.6 sec9\n",
      " [-----------------100%-----------------] 500 of 500 complete in 97.0 sec10\n",
      " [-----------------100%-----------------] 501 of 500 complete in 108.9 sec11\n",
      " [-----------------100%-----------------] 501 of 500 complete in 96.7 sec12\n",
      " [-----------------100%-----------------] 500 of 500 complete in 108.1 sec13\n",
      " [-----------------100%-----------------] 501 of 500 complete in 105.1 sec14\n",
      " [-----------------100%-----------------] 500 of 500 complete in 111.1 sec15\n",
      " [-----------------100%-----------------] 500 of 500 complete in 98.9 sec"
     ]
    }
   ],
   "source": [
    "#generate data, estimate model and save traces and convergence info for all combinations of models\n",
    "#this will take a while, so sending these as jobs on a cluster is recommended\n",
    "for i in range(f.shape[0]):\n",
    "    print(i)\n",
    "    data = hddm.generate.gen_rand_rlddm_data(\n",
    "        a=f.a[i], \n",
    "        alpha=f.alpha[i], \n",
    "        # pos_alpha=f.pos_alpha[i], \n",
    "        scaler=f.scaler[i],\n",
    "        t=f.t[i],\n",
    "        size=trials,\n",
    "        subjs=subjects,\n",
    "        p_upper=0.90,\n",
    "        p_lower=0.10)\n",
    "    data['q_init'] = 0.5\n",
    "    models = []\n",
    "    for a in range(2):  \n",
    "        m = hddm.HDDMrl(data=data)\n",
    "        m.sample(500, burn=200,dbname='traces.db',db='pickle')\n",
    "        models.append(m)\n",
    "    gelman = gelman_rubin(models)\n",
    "    gelman = pd.DataFrame.from_dict(gelman,orient='index')\n",
    "    convergencename = 'convergence_model%s.csv'%(i)\n",
    "    gelman.to_csv(convergencename)\n",
    "    traces = m.get_traces()\n",
    "    filename = 'traces_model%s.csv'%(i)\n",
    "    traces.to_csv(filename)"
   ]
  },
  {
   "cell_type": "code",
   "execution_count": 154,
   "metadata": {},
   "outputs": [],
   "source": [
    "gelmans = hddm.load_csv('convergence_model0.csv').T\n",
    "gelmans.columns = gelmans.iloc[0]\n",
    "gelmans = gelmans.drop('Unnamed: 0',axis=0)\n",
    "conv = gelmans\n",
    "\n",
    "for i in range(1,f.shape[0]):\n",
    "    filename = 'convergence_model%i.csv' %(i)\n",
    "    gelmans = hddm.load_csv(filename).T\n",
    "    gelmans.columns = gelmans.iloc[0]\n",
    "    gelmans = gelmans.drop('Unnamed: 0',axis=0)\n",
    "    conv = conv.append(gelmans)            \n",
    "conv = conv.apply(pd.to_numeric)"
   ]
  },
  {
   "cell_type": "code",
   "execution_count": 155,
   "metadata": {},
   "outputs": [
    {
     "data": {
      "text/plain": [
       "0.37155330882352944"
      ]
     },
     "execution_count": 155,
     "metadata": {},
     "output_type": "execute_result"
    }
   ],
   "source": [
    "#proportion parameters that did not converge when not using find_starting and sample at 3000 and burnin 1500\n",
    "conv = pd.melt(conv, var_name=\"Parameter\", value_name=\"Value\")\n",
    "np.mean(conv['Value'] > 1.1)"
   ]
  },
  {
   "cell_type": "code",
   "execution_count": 156,
   "metadata": {},
   "outputs": [
    {
     "data": {
      "text/html": [
       "<div>\n",
       "<style scoped>\n",
       "    .dataframe tbody tr th:only-of-type {\n",
       "        vertical-align: middle;\n",
       "    }\n",
       "\n",
       "    .dataframe tbody tr th {\n",
       "        vertical-align: top;\n",
       "    }\n",
       "\n",
       "    .dataframe thead th {\n",
       "        text-align: right;\n",
       "    }\n",
       "</style>\n",
       "<table border=\"1\" class=\"dataframe\">\n",
       "  <thead>\n",
       "    <tr style=\"text-align: right;\">\n",
       "      <th></th>\n",
       "      <th>Value</th>\n",
       "    </tr>\n",
       "  </thead>\n",
       "  <tbody>\n",
       "    <tr>\n",
       "      <th>count</th>\n",
       "      <td>4352.000000</td>\n",
       "    </tr>\n",
       "    <tr>\n",
       "      <th>mean</th>\n",
       "      <td>3.724404</td>\n",
       "    </tr>\n",
       "    <tr>\n",
       "      <th>std</th>\n",
       "      <td>29.906403</td>\n",
       "    </tr>\n",
       "    <tr>\n",
       "      <th>min</th>\n",
       "      <td>0.998332</td>\n",
       "    </tr>\n",
       "    <tr>\n",
       "      <th>25%</th>\n",
       "      <td>1.001126</td>\n",
       "    </tr>\n",
       "    <tr>\n",
       "      <th>50%</th>\n",
       "      <td>1.020518</td>\n",
       "    </tr>\n",
       "    <tr>\n",
       "      <th>75%</th>\n",
       "      <td>1.570286</td>\n",
       "    </tr>\n",
       "    <tr>\n",
       "      <th>max</th>\n",
       "      <td>1216.245664</td>\n",
       "    </tr>\n",
       "  </tbody>\n",
       "</table>\n",
       "</div>"
      ],
      "text/plain": [
       "             Value\n",
       "count  4352.000000\n",
       "mean      3.724404\n",
       "std      29.906403\n",
       "min       0.998332\n",
       "25%       1.001126\n",
       "50%       1.020518\n",
       "75%       1.570286\n",
       "max    1216.245664"
      ]
     },
     "execution_count": 156,
     "metadata": {},
     "output_type": "execute_result"
    }
   ],
   "source": [
    "conv.describe()"
   ]
  },
  {
   "cell_type": "code",
   "execution_count": 157,
   "metadata": {},
   "outputs": [
    {
     "data": {
      "text/html": [
       "<div>\n",
       "<style scoped>\n",
       "    .dataframe tbody tr th:only-of-type {\n",
       "        vertical-align: middle;\n",
       "    }\n",
       "\n",
       "    .dataframe tbody tr th {\n",
       "        vertical-align: top;\n",
       "    }\n",
       "\n",
       "    .dataframe thead th {\n",
       "        text-align: right;\n",
       "    }\n",
       "</style>\n",
       "<table border=\"1\" class=\"dataframe\">\n",
       "  <thead>\n",
       "    <tr style=\"text-align: right;\">\n",
       "      <th></th>\n",
       "      <th>Unnamed: 0</th>\n",
       "      <th>a</th>\n",
       "      <th>a_std</th>\n",
       "      <th>v</th>\n",
       "      <th>v_std</th>\n",
       "      <th>t</th>\n",
       "      <th>t_std</th>\n",
       "      <th>alpha</th>\n",
       "      <th>alpha_std</th>\n",
       "    </tr>\n",
       "  </thead>\n",
       "  <tbody>\n",
       "    <tr>\n",
       "      <th>0</th>\n",
       "      <td>149.5</td>\n",
       "      <td>0.844317</td>\n",
       "      <td>0.041487</td>\n",
       "      <td>-7.470487</td>\n",
       "      <td>1.728152</td>\n",
       "      <td>0.133724</td>\n",
       "      <td>0.055364</td>\n",
       "      <td>-0.232503</td>\n",
       "      <td>0.004275</td>\n",
       "    </tr>\n",
       "    <tr>\n",
       "      <th>0</th>\n",
       "      <td>149.5</td>\n",
       "      <td>0.844317</td>\n",
       "      <td>0.041487</td>\n",
       "      <td>-7.470487</td>\n",
       "      <td>1.728152</td>\n",
       "      <td>0.133724</td>\n",
       "      <td>0.055364</td>\n",
       "      <td>-0.232503</td>\n",
       "      <td>0.004275</td>\n",
       "    </tr>\n",
       "  </tbody>\n",
       "</table>\n",
       "</div>"
      ],
      "text/plain": [
       "   Unnamed: 0         a     a_std         v     v_std         t     t_std  \\\n",
       "0       149.5  0.844317  0.041487 -7.470487  1.728152  0.133724  0.055364   \n",
       "0       149.5  0.844317  0.041487 -7.470487  1.728152  0.133724  0.055364   \n",
       "\n",
       "      alpha  alpha_std  \n",
       "0 -0.232503   0.004275  \n",
       "0 -0.232503   0.004275  "
      ]
     },
     "execution_count": 157,
     "metadata": {},
     "output_type": "execute_result"
    }
   ],
   "source": [
    "traces = hddm.load_csv('traces_model0.csv')\n",
    "tg = traces[traces.columns.drop(list(traces.filter(regex='subj')))]\n",
    "means = pd.DataFrame(tg.mean(axis=0)).T\n",
    "means.append(means)"
   ]
  },
  {
   "cell_type": "code",
   "execution_count": 158,
   "metadata": {},
   "outputs": [],
   "source": [
    "# Creating an empty Dataframe with column names only\n",
    "means = pd.DataFrame(columns=['Unnamed: 0','a','a_std','alpha','alpha_std', 't','t_std','v','v_std','cor_at'])\n",
    "\n",
    "for i in range(1,f.shape[0]):\n",
    "    filename = 'traces_model%i.csv' %(i)\n",
    "    traces = hddm.load_csv(filename)\n",
    "    tg = traces[traces.columns.drop(list(traces.filter(regex='subj')))]\n",
    "    summ = pd.DataFrame(tg.mean(axis=0)).T\n",
    "    summ['cor_at'] = np.corrcoef(tg['a'],tg['t'])[1,0]\n",
    "    means = means.append(summ)\n",
    "means.columns = ['trace','e_a','e_a_std','e_alpha','e_alpha_std', 'e_t','e_t_std','e_v','e_v_std','cor_at']\n",
    "means['e_alphaT'] = np.exp(means['e_alpha'])/(1+np.exp(means['e_alpha']))"
   ]
  },
  {
   "cell_type": "code",
   "execution_count": 159,
   "metadata": {},
   "outputs": [
    {
     "data": {
      "text/html": [
       "<div>\n",
       "<style scoped>\n",
       "    .dataframe tbody tr th:only-of-type {\n",
       "        vertical-align: middle;\n",
       "    }\n",
       "\n",
       "    .dataframe tbody tr th {\n",
       "        vertical-align: top;\n",
       "    }\n",
       "\n",
       "    .dataframe thead th {\n",
       "        text-align: right;\n",
       "    }\n",
       "</style>\n",
       "<table border=\"1\" class=\"dataframe\">\n",
       "  <thead>\n",
       "    <tr style=\"text-align: right;\">\n",
       "      <th></th>\n",
       "      <th>trace</th>\n",
       "      <th>e_a</th>\n",
       "      <th>e_a_std</th>\n",
       "      <th>e_alpha</th>\n",
       "      <th>e_alpha_std</th>\n",
       "      <th>e_t</th>\n",
       "      <th>e_t_std</th>\n",
       "      <th>e_v</th>\n",
       "      <th>e_v_std</th>\n",
       "      <th>cor_at</th>\n",
       "      <th>e_alphaT</th>\n",
       "    </tr>\n",
       "  </thead>\n",
       "  <tbody>\n",
       "    <tr>\n",
       "      <th>count</th>\n",
       "      <td>15.0</td>\n",
       "      <td>15.000000</td>\n",
       "      <td>15.000000</td>\n",
       "      <td>15.000000</td>\n",
       "      <td>15.000000</td>\n",
       "      <td>15.000000</td>\n",
       "      <td>15.000000</td>\n",
       "      <td>15.000000</td>\n",
       "      <td>15.000000</td>\n",
       "      <td>15.000000</td>\n",
       "      <td>15.000000</td>\n",
       "    </tr>\n",
       "    <tr>\n",
       "      <th>mean</th>\n",
       "      <td>149.5</td>\n",
       "      <td>1.628106</td>\n",
       "      <td>0.665829</td>\n",
       "      <td>1.891434</td>\n",
       "      <td>0.846315</td>\n",
       "      <td>0.181759</td>\n",
       "      <td>0.115795</td>\n",
       "      <td>-15.675881</td>\n",
       "      <td>9.365615</td>\n",
       "      <td>-0.066701</td>\n",
       "      <td>0.554440</td>\n",
       "    </tr>\n",
       "    <tr>\n",
       "      <th>std</th>\n",
       "      <td>0.0</td>\n",
       "      <td>0.838192</td>\n",
       "      <td>1.445034</td>\n",
       "      <td>4.850089</td>\n",
       "      <td>0.772180</td>\n",
       "      <td>0.068372</td>\n",
       "      <td>0.152780</td>\n",
       "      <td>19.693869</td>\n",
       "      <td>10.207482</td>\n",
       "      <td>0.103528</td>\n",
       "      <td>0.486043</td>\n",
       "    </tr>\n",
       "    <tr>\n",
       "      <th>min</th>\n",
       "      <td>149.5</td>\n",
       "      <td>1.265947</td>\n",
       "      <td>0.032707</td>\n",
       "      <td>-3.075714</td>\n",
       "      <td>0.044545</td>\n",
       "      <td>0.121672</td>\n",
       "      <td>0.044173</td>\n",
       "      <td>-40.269247</td>\n",
       "      <td>0.224300</td>\n",
       "      <td>-0.234312</td>\n",
       "      <td>0.044120</td>\n",
       "    </tr>\n",
       "    <tr>\n",
       "      <th>25%</th>\n",
       "      <td>149.5</td>\n",
       "      <td>1.302772</td>\n",
       "      <td>0.136333</td>\n",
       "      <td>-2.977583</td>\n",
       "      <td>0.097339</td>\n",
       "      <td>0.145955</td>\n",
       "      <td>0.050939</td>\n",
       "      <td>-34.916716</td>\n",
       "      <td>0.262400</td>\n",
       "      <td>-0.149180</td>\n",
       "      <td>0.048467</td>\n",
       "    </tr>\n",
       "    <tr>\n",
       "      <th>50%</th>\n",
       "      <td>149.5</td>\n",
       "      <td>1.374518</td>\n",
       "      <td>0.155231</td>\n",
       "      <td>3.957827</td>\n",
       "      <td>0.787421</td>\n",
       "      <td>0.162972</td>\n",
       "      <td>0.057195</td>\n",
       "      <td>1.916844</td>\n",
       "      <td>0.293552</td>\n",
       "      <td>-0.057597</td>\n",
       "      <td>0.981254</td>\n",
       "    </tr>\n",
       "    <tr>\n",
       "      <th>75%</th>\n",
       "      <td>149.5</td>\n",
       "      <td>1.507917</td>\n",
       "      <td>0.291321</td>\n",
       "      <td>5.899398</td>\n",
       "      <td>1.615774</td>\n",
       "      <td>0.188805</td>\n",
       "      <td>0.066076</td>\n",
       "      <td>1.995976</td>\n",
       "      <td>18.406283</td>\n",
       "      <td>-0.034980</td>\n",
       "      <td>0.997135</td>\n",
       "    </tr>\n",
       "    <tr>\n",
       "      <th>max</th>\n",
       "      <td>149.5</td>\n",
       "      <td>4.599109</td>\n",
       "      <td>5.723410</td>\n",
       "      <td>9.534343</td>\n",
       "      <td>2.095030</td>\n",
       "      <td>0.402841</td>\n",
       "      <td>0.622803</td>\n",
       "      <td>2.076655</td>\n",
       "      <td>23.552571</td>\n",
       "      <td>0.150346</td>\n",
       "      <td>0.999928</td>\n",
       "    </tr>\n",
       "  </tbody>\n",
       "</table>\n",
       "</div>"
      ],
      "text/plain": [
       "       trace        e_a    e_a_std    e_alpha  e_alpha_std        e_t  \\\n",
       "count   15.0  15.000000  15.000000  15.000000    15.000000  15.000000   \n",
       "mean   149.5   1.628106   0.665829   1.891434     0.846315   0.181759   \n",
       "std      0.0   0.838192   1.445034   4.850089     0.772180   0.068372   \n",
       "min    149.5   1.265947   0.032707  -3.075714     0.044545   0.121672   \n",
       "25%    149.5   1.302772   0.136333  -2.977583     0.097339   0.145955   \n",
       "50%    149.5   1.374518   0.155231   3.957827     0.787421   0.162972   \n",
       "75%    149.5   1.507917   0.291321   5.899398     1.615774   0.188805   \n",
       "max    149.5   4.599109   5.723410   9.534343     2.095030   0.402841   \n",
       "\n",
       "         e_t_std        e_v    e_v_std     cor_at   e_alphaT  \n",
       "count  15.000000  15.000000  15.000000  15.000000  15.000000  \n",
       "mean    0.115795 -15.675881   9.365615  -0.066701   0.554440  \n",
       "std     0.152780  19.693869  10.207482   0.103528   0.486043  \n",
       "min     0.044173 -40.269247   0.224300  -0.234312   0.044120  \n",
       "25%     0.050939 -34.916716   0.262400  -0.149180   0.048467  \n",
       "50%     0.057195   1.916844   0.293552  -0.057597   0.981254  \n",
       "75%     0.066076   1.995976  18.406283  -0.034980   0.997135  \n",
       "max     0.622803   2.076655  23.552571   0.150346   0.999928  "
      ]
     },
     "execution_count": 159,
     "metadata": {},
     "output_type": "execute_result"
    }
   ],
   "source": [
    "means.describe()"
   ]
  },
  {
   "cell_type": "code",
   "execution_count": 160,
   "metadata": {},
   "outputs": [
    {
     "data": {
      "text/html": [
       "<div>\n",
       "<style scoped>\n",
       "    .dataframe tbody tr th:only-of-type {\n",
       "        vertical-align: middle;\n",
       "    }\n",
       "\n",
       "    .dataframe tbody tr th {\n",
       "        vertical-align: top;\n",
       "    }\n",
       "\n",
       "    .dataframe thead th {\n",
       "        text-align: right;\n",
       "    }\n",
       "</style>\n",
       "<table border=\"1\" class=\"dataframe\">\n",
       "  <thead>\n",
       "    <tr style=\"text-align: right;\">\n",
       "      <th></th>\n",
       "      <th>sim</th>\n",
       "      <th>parameter</th>\n",
       "      <th>est</th>\n",
       "      <th>error</th>\n",
       "    </tr>\n",
       "  </thead>\n",
       "  <tbody>\n",
       "    <tr>\n",
       "      <th>0</th>\n",
       "      <td>1.3</td>\n",
       "      <td>a</td>\n",
       "      <td>1.296944</td>\n",
       "      <td>0.003056</td>\n",
       "    </tr>\n",
       "    <tr>\n",
       "      <th>1</th>\n",
       "      <td>1.3</td>\n",
       "      <td>a</td>\n",
       "      <td>1.867768</td>\n",
       "      <td>0.567768</td>\n",
       "    </tr>\n",
       "    <tr>\n",
       "      <th>2</th>\n",
       "      <td>1.3</td>\n",
       "      <td>a</td>\n",
       "      <td>1.265947</td>\n",
       "      <td>0.034053</td>\n",
       "    </tr>\n",
       "    <tr>\n",
       "      <th>3</th>\n",
       "      <td>1.3</td>\n",
       "      <td>a</td>\n",
       "      <td>1.579877</td>\n",
       "      <td>0.279877</td>\n",
       "    </tr>\n",
       "    <tr>\n",
       "      <th>4</th>\n",
       "      <td>1.3</td>\n",
       "      <td>a</td>\n",
       "      <td>1.279772</td>\n",
       "      <td>0.020228</td>\n",
       "    </tr>\n",
       "  </tbody>\n",
       "</table>\n",
       "</div>"
      ],
      "text/plain": [
       "   sim parameter       est     error\n",
       "0  1.3         a  1.296944  0.003056\n",
       "1  1.3         a  1.867768  0.567768\n",
       "2  1.3         a  1.265947  0.034053\n",
       "3  1.3         a  1.579877  0.279877\n",
       "4  1.3         a  1.279772  0.020228"
      ]
     },
     "execution_count": 160,
     "metadata": {},
     "output_type": "execute_result"
    }
   ],
   "source": [
    "#make in long format to plot all in one figure\n",
    "f.reset_index(drop=True, inplace=True)\n",
    "means.reset_index(drop=True, inplace=True)\n",
    "a=pd.DataFrame({'sim':f['a'],'parameter':'a','est':means['e_a']})\n",
    "t=pd.DataFrame({'sim':f['t'],'parameter':'t','est':means['e_t']})\n",
    "alpha=pd.DataFrame({'sim':f['alpha'],'parameter':'alpha','est':means['e_alphaT']})\n",
    "# pos_alpha=pd.DataFrame({'sim':f['pos_alpha'],'parameter':'pos_alpha','est':means['e_pos_alphaT']})\n",
    "scaler=pd.DataFrame({'sim':f['scaler'],'parameter':'scaler','est':means['e_v']})\n",
    "long = a\n",
    "long = long.append(t)\n",
    "long = long.append(scaler)\n",
    "long = long.append(alpha)\n",
    "# long = long.append(pos_alpha)\n",
    "long['error'] = np.absolute(long['est']-long['sim'])\n",
    "long.head()"
   ]
  },
  {
   "cell_type": "code",
   "execution_count": 161,
   "metadata": {},
   "outputs": [
    {
     "data": {
      "image/png": "[encoded data removed]",
      "text/plain": [
       "<Figure size 360x360 with 1 Axes>"
      ]
     },
     "metadata": {},
     "output_type": "display_data"
    }
   ],
   "source": [
    "#plot absolute error\n",
    "g = sns.catplot(x='parameter',y='error',sharey=False,data=long)\n",
    "# g.savefig('absolute_error.pdf')"
   ]
  },
  {
   "cell_type": "code",
   "execution_count": 162,
   "metadata": {},
   "outputs": [],
   "source": [
    "def plot_hline(y,**kwargs):\n",
    "    data = kwargs.pop(\"data\") #get the data frame from the kwargs\n",
    "    plt.axhline(y=y, c='black',linestyle='-',zorder=-1) #zorder places the line underneath the other points\n",
    "\n",
    "sns.set(font_scale=1.5)\n",
    "sns.set_style(\"white\")"
   ]
  },
  {
   "cell_type": "code",
   "execution_count": 163,
   "metadata": {},
   "outputs": [
    {
     "data": {
      "text/plain": [
       "<seaborn.axisgrid.FacetGrid at 0x7f9972a2b710>"
      ]
     },
     "execution_count": 163,
     "metadata": {},
     "output_type": "execute_result"
    },
    {
     "data": {
      "image/png": "[encoded data removed]",
      "text/plain": [
       "<Figure size 360x360 with 1 Axes>"
      ]
     },
     "metadata": {},
     "output_type": "display_data"
    }
   ],
   "source": [
    "#plot NDT\n",
    "g = sns.catplot(x='sim',y='est',data=long[long.parameter=='t'])\n",
    "g.map_dataframe(plot_hline,y=0.16)\n",
    "g.map_dataframe(plot_hline,y=0.17)\n",
    "plt.ylim(0.16,0.18)\n",
    "g.fig.suptitle(\"Non-decision time\")\n",
    "g.set_axis_labels(\"Simulated NDT\", \"Estimated NDT\")"
   ]
  },
  {
   "cell_type": "code",
   "execution_count": 164,
   "metadata": {},
   "outputs": [
    {
     "data": {
      "text/plain": [
       "<seaborn.axisgrid.FacetGrid at 0x7f99734b3588>"
      ]
     },
     "execution_count": 164,
     "metadata": {},
     "output_type": "execute_result"
    },
    {
     "data": {
      "image/png": "[encoded data removed]",
      "text/plain": [
       "<Figure size 360x360 with 1 Axes>"
      ]
     },
     "metadata": {},
     "output_type": "display_data"
    }
   ],
   "source": [
    "#plot Decision threshold\n",
    "g = sns.catplot(x='sim',y='est',data=long[long.parameter=='a'])\n",
    "g.map_dataframe(plot_hline,y=1.3)\n",
    "g.map_dataframe(plot_hline,y=1.4)\n",
    "g.fig.suptitle(\"Decision threshold\")\n",
    "g.set_axis_labels(\"Simulated threshold\", \"Estimated threshold\")"
   ]
  },
  {
   "cell_type": "code",
   "execution_count": 165,
   "metadata": {},
   "outputs": [
    {
     "data": {
      "text/plain": [
       "<seaborn.axisgrid.FacetGrid at 0x7f9956154da0>"
      ]
     },
     "execution_count": 165,
     "metadata": {},
     "output_type": "execute_result"
    },
    {
     "data": {
      "image/png": "[encoded data removed]",
      "text/plain": [
       "<Figure size 360x360 with 1 Axes>"
      ]
     },
     "metadata": {},
     "output_type": "display_data"
    }
   ],
   "source": [
    "#plot alpha\n",
    "g = sns.catplot(x='sim',y='est',data=long[long.parameter=='alpha'])\n",
    "g.map_dataframe(plot_hline,y=0.44)\n",
    "g.map_dataframe(plot_hline,y=0.96)\n",
    "g.fig.suptitle(\"Learning rate\")\n",
    "g.set_axis_labels(\"Simulated alpha\", \"Estimated alpha\")"
   ]
  },
  {
   "cell_type": "code",
   "execution_count": 166,
   "metadata": {},
   "outputs": [
    {
     "data": {
      "text/plain": [
       "<seaborn.axisgrid.FacetGrid at 0x7f9956f449e8>"
      ]
     },
     "execution_count": 166,
     "metadata": {},
     "output_type": "execute_result"
    },
    {
     "data": {
      "image/png": "[encoded data removed]",
      "text/plain": [
       "<Figure size 360x360 with 1 Axes>"
      ]
     },
     "metadata": {},
     "output_type": "display_data"
    }
   ],
   "source": [
    "#plot scaling\n",
    "g = sns.catplot(x='sim',y='est',data=long[long.parameter=='scaler'])\n",
    "g.map_dataframe(plot_hline,y=1.5)\n",
    "g.map_dataframe(plot_hline,y=2.25)\n",
    "g.map_dataframe(plot_hline,y=3)\n",
    "g.fig.suptitle(\"Scaling drift rate\")\n",
    "g.set_axis_labels(\"Simulated scaling\", \"Estimated scaling\")"
   ]
  }
 ],
 "metadata": {
  "interpreter": {
   "hash": "c5b779424c9f80aff879c71239560ab890364089c49f45f1dabfac9ef8fdde72"
  },
  "kernelspec": {
   "display_name": "Python 3.6.10 ('hddmpy36')",
   "language": "python",
   "name": "python3"
  },
  "language_info": {
   "codemirror_mode": {
    "name": "ipython",
    "version": 3
   },
   "file_extension": ".py",
   "mimetype": "text/x-python",
   "name": "python",
   "nbconvert_exporter": "python",
   "pygments_lexer": "ipython3",
   "version": "3.6.10"
  },
  "orig_nbformat": 4
 },
 "nbformat": 4,
 "nbformat_minor": 2
}
